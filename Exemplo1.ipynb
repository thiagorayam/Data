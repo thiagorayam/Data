{
  "nbformat": 4,
  "nbformat_minor": 0,
  "metadata": {
    "colab": {
      "name": "Exemplo1.ipynb",
      "provenance": [],
      "include_colab_link": true
    },
    "kernelspec": {
      "name": "python3",
      "display_name": "Python 3"
    }
  },
  "cells": [
    {
      "cell_type": "markdown",
      "metadata": {
        "id": "view-in-github",
        "colab_type": "text"
      },
      "source": [
        "<a href=\"https://colab.research.google.com/github/thiagorayam/Data/blob/master/Exemplo1.ipynb\" target=\"_parent\"><img src=\"https://colab.research.google.com/assets/colab-badge.svg\" alt=\"Open In Colab\"/></a>"
      ]
    },
    {
      "cell_type": "code",
      "metadata": {
        "id": "hgvDTPst6cce",
        "colab_type": "code",
        "outputId": "ccebcf03-84f4-4863-92ae-655dcf5104de",
        "colab": {
          "base_uri": "https://localhost:8080/",
          "height": 204
        }
      },
      "source": [
        "import numpy as np\n",
        "import pandas as pd\n",
        "import matplotlib.pyplot as plt\n",
        "\n",
        "df=pd.read_csv(\"https://raw.githubusercontent.com/thiagorayam/Data/master/Consumo_cerveja.csv\",encoding = \"ISO-8859-1\", decimal=\",\")\n",
        "df.head()"
      ],
      "execution_count": 2,
      "outputs": [
        {
          "output_type": "execute_result",
          "data": {
            "text/html": [
              "<div>\n",
              "<style scoped>\n",
              "    .dataframe tbody tr th:only-of-type {\n",
              "        vertical-align: middle;\n",
              "    }\n",
              "\n",
              "    .dataframe tbody tr th {\n",
              "        vertical-align: top;\n",
              "    }\n",
              "\n",
              "    .dataframe thead th {\n",
              "        text-align: right;\n",
              "    }\n",
              "</style>\n",
              "<table border=\"1\" class=\"dataframe\">\n",
              "  <thead>\n",
              "    <tr style=\"text-align: right;\">\n",
              "      <th></th>\n",
              "      <th>Data</th>\n",
              "      <th>Temperatura Media (C)</th>\n",
              "      <th>Temperatura Minima (C)</th>\n",
              "      <th>Temperatura Maxima (C)</th>\n",
              "      <th>Precipitacao (mm)</th>\n",
              "      <th>Final de Semana</th>\n",
              "      <th>Consumo de cerveja (litros)</th>\n",
              "    </tr>\n",
              "  </thead>\n",
              "  <tbody>\n",
              "    <tr>\n",
              "      <th>0</th>\n",
              "      <td>2015-01-01</td>\n",
              "      <td>27.30</td>\n",
              "      <td>23.9</td>\n",
              "      <td>32.5</td>\n",
              "      <td>0.0</td>\n",
              "      <td>0.0</td>\n",
              "      <td>25.461</td>\n",
              "    </tr>\n",
              "    <tr>\n",
              "      <th>1</th>\n",
              "      <td>2015-01-02</td>\n",
              "      <td>27.02</td>\n",
              "      <td>24.5</td>\n",
              "      <td>33.5</td>\n",
              "      <td>0.0</td>\n",
              "      <td>0.0</td>\n",
              "      <td>28.972</td>\n",
              "    </tr>\n",
              "    <tr>\n",
              "      <th>2</th>\n",
              "      <td>2015-01-03</td>\n",
              "      <td>24.82</td>\n",
              "      <td>22.4</td>\n",
              "      <td>29.9</td>\n",
              "      <td>0.0</td>\n",
              "      <td>1.0</td>\n",
              "      <td>30.814</td>\n",
              "    </tr>\n",
              "    <tr>\n",
              "      <th>3</th>\n",
              "      <td>2015-01-04</td>\n",
              "      <td>23.98</td>\n",
              "      <td>21.5</td>\n",
              "      <td>28.6</td>\n",
              "      <td>1.2</td>\n",
              "      <td>1.0</td>\n",
              "      <td>29.799</td>\n",
              "    </tr>\n",
              "    <tr>\n",
              "      <th>4</th>\n",
              "      <td>2015-01-05</td>\n",
              "      <td>23.82</td>\n",
              "      <td>21.0</td>\n",
              "      <td>28.3</td>\n",
              "      <td>0.0</td>\n",
              "      <td>0.0</td>\n",
              "      <td>28.900</td>\n",
              "    </tr>\n",
              "  </tbody>\n",
              "</table>\n",
              "</div>"
            ],
            "text/plain": [
              "         Data  ...  Consumo de cerveja (litros)\n",
              "0  2015-01-01  ...                       25.461\n",
              "1  2015-01-02  ...                       28.972\n",
              "2  2015-01-03  ...                       30.814\n",
              "3  2015-01-04  ...                       29.799\n",
              "4  2015-01-05  ...                       28.900\n",
              "\n",
              "[5 rows x 7 columns]"
            ]
          },
          "metadata": {
            "tags": []
          },
          "execution_count": 2
        }
      ]
    },
    {
      "cell_type": "code",
      "metadata": {
        "id": "J2svPVt791Ig",
        "colab_type": "code",
        "colab": {}
      },
      "source": [
        "df=df.rename(columns={\"Temperatura Media (C)\": \"Tmed\", \"Temperatura Minima (C)\": \"Tmin\", \"Temperatura Maxima (C)\": \"Tmax\", \"Consumo de cerveja (litros)\":\"Consumo\"})"
      ],
      "execution_count": 0,
      "outputs": []
    },
    {
      "cell_type": "code",
      "metadata": {
        "id": "pAEGvwQi_Gty",
        "colab_type": "code",
        "outputId": "b11c4ecf-2e40-4d17-cbc3-843fb03adbb8",
        "colab": {
          "base_uri": "https://localhost:8080/",
          "height": 204
        }
      },
      "source": [
        "df.head()"
      ],
      "execution_count": 3,
      "outputs": [
        {
          "output_type": "execute_result",
          "data": {
            "text/html": [
              "<div>\n",
              "<style scoped>\n",
              "    .dataframe tbody tr th:only-of-type {\n",
              "        vertical-align: middle;\n",
              "    }\n",
              "\n",
              "    .dataframe tbody tr th {\n",
              "        vertical-align: top;\n",
              "    }\n",
              "\n",
              "    .dataframe thead th {\n",
              "        text-align: right;\n",
              "    }\n",
              "</style>\n",
              "<table border=\"1\" class=\"dataframe\">\n",
              "  <thead>\n",
              "    <tr style=\"text-align: right;\">\n",
              "      <th></th>\n",
              "      <th>Data</th>\n",
              "      <th>Tmed</th>\n",
              "      <th>Tmin</th>\n",
              "      <th>Tmax</th>\n",
              "      <th>Precipitacao (mm)</th>\n",
              "      <th>Final de Semana</th>\n",
              "      <th>Consumo</th>\n",
              "    </tr>\n",
              "  </thead>\n",
              "  <tbody>\n",
              "    <tr>\n",
              "      <th>0</th>\n",
              "      <td>2015-01-01</td>\n",
              "      <td>27.30</td>\n",
              "      <td>23.9</td>\n",
              "      <td>32.5</td>\n",
              "      <td>0.0</td>\n",
              "      <td>0.0</td>\n",
              "      <td>25.461</td>\n",
              "    </tr>\n",
              "    <tr>\n",
              "      <th>1</th>\n",
              "      <td>2015-01-02</td>\n",
              "      <td>27.02</td>\n",
              "      <td>24.5</td>\n",
              "      <td>33.5</td>\n",
              "      <td>0.0</td>\n",
              "      <td>0.0</td>\n",
              "      <td>28.972</td>\n",
              "    </tr>\n",
              "    <tr>\n",
              "      <th>2</th>\n",
              "      <td>2015-01-03</td>\n",
              "      <td>24.82</td>\n",
              "      <td>22.4</td>\n",
              "      <td>29.9</td>\n",
              "      <td>0.0</td>\n",
              "      <td>1.0</td>\n",
              "      <td>30.814</td>\n",
              "    </tr>\n",
              "    <tr>\n",
              "      <th>3</th>\n",
              "      <td>2015-01-04</td>\n",
              "      <td>23.98</td>\n",
              "      <td>21.5</td>\n",
              "      <td>28.6</td>\n",
              "      <td>1.2</td>\n",
              "      <td>1.0</td>\n",
              "      <td>29.799</td>\n",
              "    </tr>\n",
              "    <tr>\n",
              "      <th>4</th>\n",
              "      <td>2015-01-05</td>\n",
              "      <td>23.82</td>\n",
              "      <td>21.0</td>\n",
              "      <td>28.3</td>\n",
              "      <td>0.0</td>\n",
              "      <td>0.0</td>\n",
              "      <td>28.900</td>\n",
              "    </tr>\n",
              "  </tbody>\n",
              "</table>\n",
              "</div>"
            ],
            "text/plain": [
              "         Data   Tmed  Tmin  Tmax  Precipitacao (mm)  Final de Semana Consumo\n",
              "0  2015-01-01  27.30  23.9  32.5                0.0              0.0  25.461\n",
              "1  2015-01-02  27.02  24.5  33.5                0.0              0.0  28.972\n",
              "2  2015-01-03  24.82  22.4  29.9                0.0              1.0  30.814\n",
              "3  2015-01-04  23.98  21.5  28.6                1.2              1.0  29.799\n",
              "4  2015-01-05  23.82  21.0  28.3                0.0              0.0  28.900"
            ]
          },
          "metadata": {
            "tags": []
          },
          "execution_count": 3
        }
      ]
    },
    {
      "cell_type": "code",
      "metadata": {
        "id": "JFBsWeAEok80",
        "colab_type": "code",
        "colab": {
          "base_uri": "https://localhost:8080/",
          "height": 170
        },
        "outputId": "1ff5e32a-3bae-47c8-d361-9132ca7927a0"
      },
      "source": [
        "df['Tmed'].describe()"
      ],
      "execution_count": 40,
      "outputs": [
        {
          "output_type": "execute_result",
          "data": {
            "text/plain": [
              "count    365.000000\n",
              "mean      21.226356\n",
              "std        3.180108\n",
              "min       12.900000\n",
              "25%       19.020000\n",
              "50%       21.380000\n",
              "75%       23.280000\n",
              "max       28.860000\n",
              "Name: Tmed, dtype: float64"
            ]
          },
          "metadata": {
            "tags": []
          },
          "execution_count": 40
        }
      ]
    },
    {
      "cell_type": "code",
      "metadata": {
        "id": "1TTX1zY2o38I",
        "colab_type": "code",
        "colab": {
          "base_uri": "https://localhost:8080/",
          "height": 170
        },
        "outputId": "fc616814-5d20-410c-d135-c91087146043"
      },
      "source": [
        "df['Tmin'].describe()"
      ],
      "execution_count": 41,
      "outputs": [
        {
          "output_type": "execute_result",
          "data": {
            "text/plain": [
              "count    365.000000\n",
              "mean      17.461370\n",
              "std        2.826185\n",
              "min       10.600000\n",
              "25%       15.300000\n",
              "50%       17.900000\n",
              "75%       19.600000\n",
              "max       24.500000\n",
              "Name: Tmin, dtype: float64"
            ]
          },
          "metadata": {
            "tags": []
          },
          "execution_count": 41
        }
      ]
    },
    {
      "cell_type": "code",
      "metadata": {
        "id": "lC5zjocto7AO",
        "colab_type": "code",
        "colab": {
          "base_uri": "https://localhost:8080/",
          "height": 170
        },
        "outputId": "236aca7f-07da-452f-eeaa-a79281a1ce38"
      },
      "source": [
        "df['Tmax'].describe()"
      ],
      "execution_count": 42,
      "outputs": [
        {
          "output_type": "execute_result",
          "data": {
            "text/plain": [
              "count    365.000000\n",
              "mean      26.611507\n",
              "std        4.317366\n",
              "min       14.500000\n",
              "25%       23.800000\n",
              "50%       26.900000\n",
              "75%       29.400000\n",
              "max       36.500000\n",
              "Name: Tmax, dtype: float64"
            ]
          },
          "metadata": {
            "tags": []
          },
          "execution_count": 42
        }
      ]
    },
    {
      "cell_type": "code",
      "metadata": {
        "id": "SAzFgrN3pOHf",
        "colab_type": "code",
        "colab": {
          "base_uri": "https://localhost:8080/",
          "height": 170
        },
        "outputId": "63c13089-a414-47be-a23f-6a688de1cffa"
      },
      "source": [
        "df['Consumo'].describe()"
      ],
      "execution_count": 43,
      "outputs": [
        {
          "output_type": "execute_result",
          "data": {
            "text/plain": [
              "count      365.000000\n",
              "mean     25401.367123\n",
              "std       4399.142703\n",
              "min      14343.000000\n",
              "25%      22008.000000\n",
              "50%      24867.000000\n",
              "75%      28631.000000\n",
              "max      37937.000000\n",
              "Name: Consumo, dtype: float64"
            ]
          },
          "metadata": {
            "tags": []
          },
          "execution_count": 43
        }
      ]
    },
    {
      "cell_type": "markdown",
      "metadata": {
        "id": "vb93v62ffzQI",
        "colab_type": "text"
      },
      "source": [
        "# **-> Definição dos tipos**\n"
      ]
    },
    {
      "cell_type": "code",
      "metadata": {
        "id": "8I937tFo_Uen",
        "colab_type": "code",
        "outputId": "1a30e989-2dee-4ad0-fbe0-1ff6b815af09",
        "colab": {
          "base_uri": "https://localhost:8080/",
          "height": 153
        }
      },
      "source": [
        "df.dtypes"
      ],
      "execution_count": 0,
      "outputs": [
        {
          "output_type": "execute_result",
          "data": {
            "text/plain": [
              "Data                  object\n",
              "Tmed                 float64\n",
              "Tmin                 float64\n",
              "Tmax                 float64\n",
              "Precipitacao (mm)    float64\n",
              "Final de Semana      float64\n",
              "Consumo               object\n",
              "dtype: object"
            ]
          },
          "metadata": {
            "tags": []
          },
          "execution_count": 3
        }
      ]
    },
    {
      "cell_type": "code",
      "metadata": {
        "id": "voikuwFR_bBS",
        "colab_type": "code",
        "colab": {}
      },
      "source": [
        "df['Data'] = df['Data'].astype('category')\n",
        "df['Consumo'] = df['Consumo'].astype('float64')\n",
        "df['Consumo']=df['Consumo']*1000 "
      ],
      "execution_count": 0,
      "outputs": []
    },
    {
      "cell_type": "code",
      "metadata": {
        "id": "N6FzXulS_qey",
        "colab_type": "code",
        "outputId": "aaa3daaa-40f9-4bfd-bba0-71be3fb25bda",
        "colab": {
          "base_uri": "https://localhost:8080/",
          "height": 34
        }
      },
      "source": [
        "df.shape"
      ],
      "execution_count": 0,
      "outputs": [
        {
          "output_type": "execute_result",
          "data": {
            "text/plain": [
              "(941, 8)"
            ]
          },
          "metadata": {
            "tags": []
          },
          "execution_count": 28
        }
      ]
    },
    {
      "cell_type": "markdown",
      "metadata": {
        "id": "gdEcLF74gQie",
        "colab_type": "text"
      },
      "source": [
        "# **-> Tratamento de dados ausentes**"
      ]
    },
    {
      "cell_type": "code",
      "metadata": {
        "id": "YCVYy3hHAYxO",
        "colab_type": "code",
        "outputId": "b9806acd-c28d-4c04-b35f-a44410c1c549",
        "colab": {
          "base_uri": "https://localhost:8080/",
          "height": 153
        }
      },
      "source": [
        "df.isnull().sum()"
      ],
      "execution_count": 0,
      "outputs": [
        {
          "output_type": "execute_result",
          "data": {
            "text/plain": [
              "Data                 576\n",
              "Tmed                 576\n",
              "Tmin                 576\n",
              "Tmax                 576\n",
              "Precipitacao (mm)    576\n",
              "Final de Semana      576\n",
              "Consumo              576\n",
              "dtype: int64"
            ]
          },
          "metadata": {
            "tags": []
          },
          "execution_count": 74
        }
      ]
    },
    {
      "cell_type": "code",
      "metadata": {
        "id": "nrsYenO9AiR7",
        "colab_type": "code",
        "outputId": "88ada193-f58c-4768-e9e5-4c7628127023",
        "colab": {
          "base_uri": "https://localhost:8080/",
          "height": 419
        }
      },
      "source": [
        "df.isnull()"
      ],
      "execution_count": 0,
      "outputs": [
        {
          "output_type": "execute_result",
          "data": {
            "text/html": [
              "<div>\n",
              "<style scoped>\n",
              "    .dataframe tbody tr th:only-of-type {\n",
              "        vertical-align: middle;\n",
              "    }\n",
              "\n",
              "    .dataframe tbody tr th {\n",
              "        vertical-align: top;\n",
              "    }\n",
              "\n",
              "    .dataframe thead th {\n",
              "        text-align: right;\n",
              "    }\n",
              "</style>\n",
              "<table border=\"1\" class=\"dataframe\">\n",
              "  <thead>\n",
              "    <tr style=\"text-align: right;\">\n",
              "      <th></th>\n",
              "      <th>Data</th>\n",
              "      <th>Tmed</th>\n",
              "      <th>Tmin</th>\n",
              "      <th>Tmax</th>\n",
              "      <th>Precipitacao (mm)</th>\n",
              "      <th>Final de Semana</th>\n",
              "      <th>Consumo</th>\n",
              "    </tr>\n",
              "  </thead>\n",
              "  <tbody>\n",
              "    <tr>\n",
              "      <th>0</th>\n",
              "      <td>False</td>\n",
              "      <td>False</td>\n",
              "      <td>False</td>\n",
              "      <td>False</td>\n",
              "      <td>False</td>\n",
              "      <td>False</td>\n",
              "      <td>False</td>\n",
              "    </tr>\n",
              "    <tr>\n",
              "      <th>1</th>\n",
              "      <td>False</td>\n",
              "      <td>False</td>\n",
              "      <td>False</td>\n",
              "      <td>False</td>\n",
              "      <td>False</td>\n",
              "      <td>False</td>\n",
              "      <td>False</td>\n",
              "    </tr>\n",
              "    <tr>\n",
              "      <th>2</th>\n",
              "      <td>False</td>\n",
              "      <td>False</td>\n",
              "      <td>False</td>\n",
              "      <td>False</td>\n",
              "      <td>False</td>\n",
              "      <td>False</td>\n",
              "      <td>False</td>\n",
              "    </tr>\n",
              "    <tr>\n",
              "      <th>3</th>\n",
              "      <td>False</td>\n",
              "      <td>False</td>\n",
              "      <td>False</td>\n",
              "      <td>False</td>\n",
              "      <td>False</td>\n",
              "      <td>False</td>\n",
              "      <td>False</td>\n",
              "    </tr>\n",
              "    <tr>\n",
              "      <th>4</th>\n",
              "      <td>False</td>\n",
              "      <td>False</td>\n",
              "      <td>False</td>\n",
              "      <td>False</td>\n",
              "      <td>False</td>\n",
              "      <td>False</td>\n",
              "      <td>False</td>\n",
              "    </tr>\n",
              "    <tr>\n",
              "      <th>...</th>\n",
              "      <td>...</td>\n",
              "      <td>...</td>\n",
              "      <td>...</td>\n",
              "      <td>...</td>\n",
              "      <td>...</td>\n",
              "      <td>...</td>\n",
              "      <td>...</td>\n",
              "    </tr>\n",
              "    <tr>\n",
              "      <th>936</th>\n",
              "      <td>True</td>\n",
              "      <td>True</td>\n",
              "      <td>True</td>\n",
              "      <td>True</td>\n",
              "      <td>True</td>\n",
              "      <td>True</td>\n",
              "      <td>True</td>\n",
              "    </tr>\n",
              "    <tr>\n",
              "      <th>937</th>\n",
              "      <td>True</td>\n",
              "      <td>True</td>\n",
              "      <td>True</td>\n",
              "      <td>True</td>\n",
              "      <td>True</td>\n",
              "      <td>True</td>\n",
              "      <td>True</td>\n",
              "    </tr>\n",
              "    <tr>\n",
              "      <th>938</th>\n",
              "      <td>True</td>\n",
              "      <td>True</td>\n",
              "      <td>True</td>\n",
              "      <td>True</td>\n",
              "      <td>True</td>\n",
              "      <td>True</td>\n",
              "      <td>True</td>\n",
              "    </tr>\n",
              "    <tr>\n",
              "      <th>939</th>\n",
              "      <td>True</td>\n",
              "      <td>True</td>\n",
              "      <td>True</td>\n",
              "      <td>True</td>\n",
              "      <td>True</td>\n",
              "      <td>True</td>\n",
              "      <td>True</td>\n",
              "    </tr>\n",
              "    <tr>\n",
              "      <th>940</th>\n",
              "      <td>True</td>\n",
              "      <td>True</td>\n",
              "      <td>True</td>\n",
              "      <td>True</td>\n",
              "      <td>True</td>\n",
              "      <td>True</td>\n",
              "      <td>True</td>\n",
              "    </tr>\n",
              "  </tbody>\n",
              "</table>\n",
              "<p>941 rows × 7 columns</p>\n",
              "</div>"
            ],
            "text/plain": [
              "      Data   Tmed   Tmin   Tmax  Precipitacao (mm)  Final de Semana  Consumo\n",
              "0    False  False  False  False              False            False    False\n",
              "1    False  False  False  False              False            False    False\n",
              "2    False  False  False  False              False            False    False\n",
              "3    False  False  False  False              False            False    False\n",
              "4    False  False  False  False              False            False    False\n",
              "..     ...    ...    ...    ...                ...              ...      ...\n",
              "936   True   True   True   True               True             True     True\n",
              "937   True   True   True   True               True             True     True\n",
              "938   True   True   True   True               True             True     True\n",
              "939   True   True   True   True               True             True     True\n",
              "940   True   True   True   True               True             True     True\n",
              "\n",
              "[941 rows x 7 columns]"
            ]
          },
          "metadata": {
            "tags": []
          },
          "execution_count": 75
        }
      ]
    },
    {
      "cell_type": "markdown",
      "metadata": {
        "id": "oZSniU8lgdEF",
        "colab_type": "text"
      },
      "source": [
        "Como todos os valores nulos estão agrupados, podemos eliminar todas as instâncias com a função dropna"
      ]
    },
    {
      "cell_type": "code",
      "metadata": {
        "id": "C6ri7k82gusM",
        "colab_type": "code",
        "colab": {}
      },
      "source": [
        "df=df.dropna()"
      ],
      "execution_count": 0,
      "outputs": []
    },
    {
      "cell_type": "code",
      "metadata": {
        "id": "3hdc9mxvgxNk",
        "colab_type": "code",
        "outputId": "c1ca8107-d35c-4c56-aa11-3e08dabd632c",
        "colab": {
          "base_uri": "https://localhost:8080/",
          "height": 153
        }
      },
      "source": [
        "df.isnull().sum()"
      ],
      "execution_count": 0,
      "outputs": [
        {
          "output_type": "execute_result",
          "data": {
            "text/plain": [
              "Data                 0\n",
              "Tmed                 0\n",
              "Tmin                 0\n",
              "Tmax                 0\n",
              "Precipitacao (mm)    0\n",
              "Final de Semana      0\n",
              "Consumo              0\n",
              "dtype: int64"
            ]
          },
          "metadata": {
            "tags": []
          },
          "execution_count": 42
        }
      ]
    },
    {
      "cell_type": "markdown",
      "metadata": {
        "id": "kyakQkYfdg0X",
        "colab_type": "text"
      },
      "source": [
        "# **-> Normalização**"
      ]
    },
    {
      "cell_type": "markdown",
      "metadata": {
        "id": "rO75ACf2enHU",
        "colab_type": "text"
      },
      "source": [
        "Visando obter uma variável que represente tanto a temperatura quanto a condição de chuva, foi criada uma variável clima. As variáveis 'Precipitacao' e 'Tmed' foram normalizadas para não existir influência das unidades utilizadas e tomar as duas variáveis com a mesma influência na nova variável."
      ]
    },
    {
      "cell_type": "code",
      "metadata": {
        "id": "WWTOpMt9z2Da",
        "colab_type": "code",
        "colab": {}
      },
      "source": [
        "\n",
        "df['Precipitacao_norm'] = (df['Precipitacao (mm)'] - df['Precipitacao (mm)'].min()) / (df['Precipitacao (mm)'].max() - df['Precipitacao (mm)'].min())"
      ],
      "execution_count": 0,
      "outputs": []
    },
    {
      "cell_type": "code",
      "metadata": {
        "id": "kN8NjwG441Ee",
        "colab_type": "code",
        "outputId": "3d2970fe-a05d-4078-9d35-fe8a92070252",
        "colab": {
          "base_uri": "https://localhost:8080/",
          "height": 221
        }
      },
      "source": [
        "df['Precipitacao_norm']"
      ],
      "execution_count": 8,
      "outputs": [
        {
          "output_type": "execute_result",
          "data": {
            "text/plain": [
              "0      0.000000\n",
              "1      0.000000\n",
              "2      0.000000\n",
              "3      0.012658\n",
              "4      0.000000\n",
              "         ...   \n",
              "360    0.143460\n",
              "361    0.000000\n",
              "362    0.108650\n",
              "363    0.066456\n",
              "364    0.000000\n",
              "Name: Precipitacao_norm, Length: 365, dtype: float64"
            ]
          },
          "metadata": {
            "tags": []
          },
          "execution_count": 8
        }
      ]
    },
    {
      "cell_type": "code",
      "metadata": {
        "id": "bbx84HNN5Bfc",
        "colab_type": "code",
        "colab": {}
      },
      "source": [
        "\n",
        "df['Tmed_norm'] = (df['Tmed'] - df['Tmed'].min()) / (df['Tmed'].max() - df['Tmed'].min())"
      ],
      "execution_count": 0,
      "outputs": []
    },
    {
      "cell_type": "code",
      "metadata": {
        "id": "0AfJLR_z5T2U",
        "colab_type": "code",
        "outputId": "b8f37613-7534-4f67-c5dc-453b41d67012",
        "colab": {
          "base_uri": "https://localhost:8080/",
          "height": 221
        }
      },
      "source": [
        "df['Tmed_norm']"
      ],
      "execution_count": 10,
      "outputs": [
        {
          "output_type": "execute_result",
          "data": {
            "text/plain": [
              "0      0.902256\n",
              "1      0.884712\n",
              "2      0.746867\n",
              "3      0.694236\n",
              "4      0.684211\n",
              "         ...   \n",
              "360    0.695489\n",
              "361    0.610276\n",
              "362    0.550125\n",
              "363    0.531328\n",
              "364    0.743108\n",
              "Name: Tmed_norm, Length: 365, dtype: float64"
            ]
          },
          "metadata": {
            "tags": []
          },
          "execution_count": 10
        }
      ]
    },
    {
      "cell_type": "code",
      "metadata": {
        "id": "ip2YeH3F7EeN",
        "colab_type": "code",
        "colab": {}
      },
      "source": [
        "df['Clima']=df['Tmed_norm'] - df['Precipitacao_norm']"
      ],
      "execution_count": 0,
      "outputs": []
    },
    {
      "cell_type": "code",
      "metadata": {
        "id": "XYnxDKBv7X1E",
        "colab_type": "code",
        "outputId": "a53da0c6-277d-410c-dc37-321bd0e13d42",
        "colab": {
          "base_uri": "https://localhost:8080/",
          "height": 282
        }
      },
      "source": [
        "plt.scatter(x=df['Clima'],y=df['Consumo'])"
      ],
      "execution_count": 0,
      "outputs": [
        {
          "output_type": "execute_result",
          "data": {
            "text/plain": [
              "<matplotlib.collections.PathCollection at 0x7f3a36e11f28>"
            ]
          },
          "metadata": {
            "tags": []
          },
          "execution_count": 11
        },
        {
          "output_type": "display_data",
          "data": {
            "image/png": "[encoded data removed]",
            "text/plain": [
              "<Figure size 432x288 with 1 Axes>"
            ]
          },
          "metadata": {
            "tags": []
          }
        }
      ]
    },
    {
      "cell_type": "markdown",
      "metadata": {
        "id": "Bp1Prm9bg-Uh",
        "colab_type": "text"
      },
      "source": [
        "# **-> Discretização**"
      ]
    },
    {
      "cell_type": "code",
      "metadata": {
        "id": "QPPGxnHmhCpQ",
        "colab_type": "code",
        "colab": {}
      },
      "source": [
        "df['Temp_dis'] = pd.qcut(df['Tmed'],3)"
      ],
      "execution_count": 0,
      "outputs": []
    },
    {
      "cell_type": "code",
      "metadata": {
        "id": "nqxwAPRsiB5l",
        "colab_type": "code",
        "colab": {
          "base_uri": "https://localhost:8080/",
          "height": 85
        },
        "outputId": "dc1088dc-672a-4812-aad8-7dea30719a09"
      },
      "source": [
        "df['Temp_dis'].value_counts()"
      ],
      "execution_count": 36,
      "outputs": [
        {
          "output_type": "execute_result",
          "data": {
            "text/plain": [
              "(22.573, 28.86]                 122\n",
              "(12.899000000000001, 20.047]    122\n",
              "(20.047, 22.573]                121\n",
              "Name: Temp_dis, dtype: int64"
            ]
          },
          "metadata": {
            "tags": []
          },
          "execution_count": 36
        }
      ]
    },
    {
      "cell_type": "code",
      "metadata": {
        "id": "KqsbAsttl52l",
        "colab_type": "code",
        "colab": {
          "base_uri": "https://localhost:8080/",
          "height": 282
        },
        "outputId": "e3b7ffc9-0dfd-4734-c2db-b437c8222273"
      },
      "source": [
        "df['Temp_dis'].value_counts().plot.bar(rot=0)"
      ],
      "execution_count": 37,
      "outputs": [
        {
          "output_type": "execute_result",
          "data": {
            "text/plain": [
              "<matplotlib.axes._subplots.AxesSubplot at 0x7f51aaf76048>"
            ]
          },
          "metadata": {
            "tags": []
          },
          "execution_count": 37
        },
        {
          "output_type": "display_data",
          "data": {
            "image/png": "[encoded data removed]",
            "text/plain": [
              "<Figure size 432x288 with 1 Axes>"
            ]
          },
          "metadata": {
            "tags": []
          }
        }
      ]
    },
    {
      "cell_type": "markdown",
      "metadata": {
        "id": "AVRJSC2msM8D",
        "colab_type": "text"
      },
      "source": [
        "# **->Limpeza dos dados**"
      ]
    },
    {
      "cell_type": "code",
      "metadata": {
        "id": "aqVmhzEiItxA",
        "colab_type": "code",
        "outputId": "4093bef7-f16d-4cce-aba1-437b81cfcc7f",
        "colab": {
          "base_uri": "https://localhost:8080/",
          "height": 49
        }
      },
      "source": [
        "df[df.duplicated()].sort_values(\"Clima\").head()"
      ],
      "execution_count": 0,
      "outputs": [
        {
          "output_type": "execute_result",
          "data": {
            "text/html": [
              "<div>\n",
              "<style scoped>\n",
              "    .dataframe tbody tr th:only-of-type {\n",
              "        vertical-align: middle;\n",
              "    }\n",
              "\n",
              "    .dataframe tbody tr th {\n",
              "        vertical-align: top;\n",
              "    }\n",
              "\n",
              "    .dataframe thead th {\n",
              "        text-align: right;\n",
              "    }\n",
              "</style>\n",
              "<table border=\"1\" class=\"dataframe\">\n",
              "  <thead>\n",
              "    <tr style=\"text-align: right;\">\n",
              "      <th></th>\n",
              "      <th>Data</th>\n",
              "      <th>Tmed</th>\n",
              "      <th>Tmin</th>\n",
              "      <th>Tmax</th>\n",
              "      <th>Precipitacao (mm)</th>\n",
              "      <th>Final de Semana</th>\n",
              "      <th>Consumo</th>\n",
              "      <th>Precipitacao_norm</th>\n",
              "      <th>Tmed_norm</th>\n",
              "      <th>Clima</th>\n",
              "    </tr>\n",
              "  </thead>\n",
              "  <tbody>\n",
              "  </tbody>\n",
              "</table>\n",
              "</div>"
            ],
            "text/plain": [
              "Empty DataFrame\n",
              "Columns: [Data, Tmed, Tmin, Tmax, Precipitacao (mm), Final de Semana, Consumo, Precipitacao_norm, Tmed_norm, Clima]\n",
              "Index: []"
            ]
          },
          "metadata": {
            "tags": []
          },
          "execution_count": 12
        }
      ]
    },
    {
      "cell_type": "markdown",
      "metadata": {
        "id": "sux1xighsXK4",
        "colab_type": "text"
      },
      "source": [
        "Os dados não possuem registros duplicados. Como os dados foram obtidos do site kaggle, eles já passaram por algum tratamento antes. Caso contrário, seria necessário utilizar o comando drop_duplicates para remover os dados duplicados."
      ]
    },
    {
      "cell_type": "code",
      "metadata": {
        "id": "5AdPA7l6JTE_",
        "colab_type": "code",
        "outputId": "bdb5ca83-2001-410b-9029-79adf8e02f19",
        "colab": {
          "base_uri": "https://localhost:8080/",
          "height": 282
        }
      },
      "source": [
        "df['Clima'].hist()"
      ],
      "execution_count": 0,
      "outputs": [
        {
          "output_type": "execute_result",
          "data": {
            "text/plain": [
              "<matplotlib.axes._subplots.AxesSubplot at 0x7efdfcd63e80>"
            ]
          },
          "metadata": {
            "tags": []
          },
          "execution_count": 11
        },
        {
          "output_type": "display_data",
          "data": {
            "image/png": "[encoded data removed]",
            "text/plain": [
              "<Figure size 432x288 with 1 Axes>"
            ]
          },
          "metadata": {
            "tags": []
          }
        }
      ]
    },
    {
      "cell_type": "code",
      "metadata": {
        "id": "zLp5QbMJTD6g",
        "colab_type": "code",
        "outputId": "77f81aaa-6bae-42e7-8331-dd9e47ab2513",
        "colab": {
          "base_uri": "https://localhost:8080/",
          "height": 282
        }
      },
      "source": [
        "df['Clima'].plot.box()"
      ],
      "execution_count": 0,
      "outputs": [
        {
          "output_type": "execute_result",
          "data": {
            "text/plain": [
              "<matplotlib.axes._subplots.AxesSubplot at 0x7efdd7d61278>"
            ]
          },
          "metadata": {
            "tags": []
          },
          "execution_count": 12
        },
        {
          "output_type": "display_data",
          "data": {
            "image/png": "[encoded data removed]",
            "text/plain": [
              "<Figure size 432x288 with 1 Axes>"
            ]
          },
          "metadata": {
            "tags": []
          }
        }
      ]
    },
    {
      "cell_type": "code",
      "metadata": {
        "id": "qVNX3GJhd2uL",
        "colab_type": "code",
        "outputId": "81f729d7-cd32-45e0-9bba-08add6fe295e",
        "colab": {
          "base_uri": "https://localhost:8080/",
          "height": 282
        }
      },
      "source": [
        "df['Consumo'].plot.box()"
      ],
      "execution_count": 0,
      "outputs": [
        {
          "output_type": "execute_result",
          "data": {
            "text/plain": [
              "<matplotlib.axes._subplots.AxesSubplot at 0x7efdd7cd8cc0>"
            ]
          },
          "metadata": {
            "tags": []
          },
          "execution_count": 13
        },
        {
          "output_type": "display_data",
          "data": {
            "image/png": "[encoded data removed]",
            "text/plain": [
              "<Figure size 432x288 with 1 Axes>"
            ]
          },
          "metadata": {
            "tags": []
          }
        }
      ]
    },
    {
      "cell_type": "code",
      "metadata": {
        "id": "l3Am3GasgKUD",
        "colab_type": "code",
        "outputId": "d9e32d05-61af-424c-f176-3d20b8d3fe11",
        "colab": {
          "base_uri": "https://localhost:8080/",
          "height": 282
        }
      },
      "source": [
        "df['Tmed'].plot.box()"
      ],
      "execution_count": 0,
      "outputs": [
        {
          "output_type": "execute_result",
          "data": {
            "text/plain": [
              "<matplotlib.axes._subplots.AxesSubplot at 0x7efdd7cb0c18>"
            ]
          },
          "metadata": {
            "tags": []
          },
          "execution_count": 14
        },
        {
          "output_type": "display_data",
          "data": {
            "image/png": "[encoded data removed]",
            "text/plain": [
              "<Figure size 432x288 with 1 Axes>"
            ]
          },
          "metadata": {
            "tags": []
          }
        }
      ]
    },
    {
      "cell_type": "markdown",
      "metadata": {
        "id": "LDf7HpGAaZu_",
        "colab_type": "text"
      },
      "source": [
        "**Com intuito de identificar o comportamento separadamente dos dias de final de semana, foram criados os dados df1 e df2 abaixo**"
      ]
    },
    {
      "cell_type": "code",
      "metadata": {
        "id": "ZSXP3V3Fialq",
        "colab_type": "code",
        "colab": {}
      },
      "source": [
        "df1=df[(df[\"Final de Semana\"] == 1)]"
      ],
      "execution_count": 0,
      "outputs": []
    },
    {
      "cell_type": "code",
      "metadata": {
        "id": "HGf0CiJwn7nD",
        "colab_type": "code",
        "colab": {}
      },
      "source": [
        "df2=df[(df[\"Final de Semana\"] == 0)]"
      ],
      "execution_count": 0,
      "outputs": []
    },
    {
      "cell_type": "code",
      "metadata": {
        "id": "PIiFnOYLoSa3",
        "colab_type": "code",
        "outputId": "2c4b2155-7729-4c73-b5cf-13da55818f82",
        "colab": {
          "base_uri": "https://localhost:8080/",
          "height": 282
        }
      },
      "source": [
        "plt.scatter(x=df1['Clima'],y=df1['Consumo'])"
      ],
      "execution_count": 0,
      "outputs": [
        {
          "output_type": "execute_result",
          "data": {
            "text/plain": [
              "<matplotlib.collections.PathCollection at 0x7f3a340f6240>"
            ]
          },
          "metadata": {
            "tags": []
          },
          "execution_count": 15
        },
        {
          "output_type": "display_data",
          "data": {
            "image/png": "[encoded data removed]",
            "text/plain": [
              "<Figure size 432x288 with 1 Axes>"
            ]
          },
          "metadata": {
            "tags": []
          }
        }
      ]
    },
    {
      "cell_type": "code",
      "metadata": {
        "id": "lPvhmqtLollu",
        "colab_type": "code",
        "outputId": "b6fb3db6-cc80-4df6-9687-dfded6cee57d",
        "colab": {
          "base_uri": "https://localhost:8080/",
          "height": 282
        }
      },
      "source": [
        "plt.scatter(x=df2['Clima'],y=df2['Consumo'])"
      ],
      "execution_count": 0,
      "outputs": [
        {
          "output_type": "execute_result",
          "data": {
            "text/plain": [
              "<matplotlib.collections.PathCollection at 0x7f3a340def60>"
            ]
          },
          "metadata": {
            "tags": []
          },
          "execution_count": 16
        },
        {
          "output_type": "display_data",
          "data": {
            "image/png": "[encoded data removed]",
            "text/plain": [
              "<Figure size 432x288 with 1 Axes>"
            ]
          },
          "metadata": {
            "tags": []
          }
        }
      ]
    },
    {
      "cell_type": "markdown",
      "metadata": {
        "id": "YonDp-THauai",
        "colab_type": "text"
      },
      "source": [
        "**Para os dias de final de semana a melhor correlação obtida foi com a variável 'Clima' criada para traduzir o clima a partir das informações de temperatura e precipitação**"
      ]
    },
    {
      "cell_type": "code",
      "metadata": {
        "id": "4YJraXGBZOHv",
        "colab_type": "code",
        "outputId": "42eac805-d3fc-4d4b-b435-98470222076b",
        "colab": {
          "base_uri": "https://localhost:8080/",
          "height": 328
        }
      },
      "source": [
        "df1.corr(method='spearman')"
      ],
      "execution_count": 0,
      "outputs": [
        {
          "output_type": "execute_result",
          "data": {
            "text/html": [
              "<div>\n",
              "<style scoped>\n",
              "    .dataframe tbody tr th:only-of-type {\n",
              "        vertical-align: middle;\n",
              "    }\n",
              "\n",
              "    .dataframe tbody tr th {\n",
              "        vertical-align: top;\n",
              "    }\n",
              "\n",
              "    .dataframe thead th {\n",
              "        text-align: right;\n",
              "    }\n",
              "</style>\n",
              "<table border=\"1\" class=\"dataframe\">\n",
              "  <thead>\n",
              "    <tr style=\"text-align: right;\">\n",
              "      <th></th>\n",
              "      <th>Tmed</th>\n",
              "      <th>Tmin</th>\n",
              "      <th>Tmax</th>\n",
              "      <th>Precipitacao (mm)</th>\n",
              "      <th>Final de Semana</th>\n",
              "      <th>Consumo</th>\n",
              "      <th>Precipitacao_norm</th>\n",
              "      <th>Tmed_norm</th>\n",
              "      <th>Clima</th>\n",
              "    </tr>\n",
              "  </thead>\n",
              "  <tbody>\n",
              "    <tr>\n",
              "      <th>Tmed</th>\n",
              "      <td>1.000000</td>\n",
              "      <td>0.874687</td>\n",
              "      <td>0.906752</td>\n",
              "      <td>0.026239</td>\n",
              "      <td>NaN</td>\n",
              "      <td>0.629538</td>\n",
              "      <td>0.026239</td>\n",
              "      <td>1.000000</td>\n",
              "      <td>0.870083</td>\n",
              "    </tr>\n",
              "    <tr>\n",
              "      <th>Tmin</th>\n",
              "      <td>0.874687</td>\n",
              "      <td>1.000000</td>\n",
              "      <td>0.663967</td>\n",
              "      <td>0.157762</td>\n",
              "      <td>NaN</td>\n",
              "      <td>0.450238</td>\n",
              "      <td>0.157762</td>\n",
              "      <td>0.874687</td>\n",
              "      <td>0.730329</td>\n",
              "    </tr>\n",
              "    <tr>\n",
              "      <th>Tmax</th>\n",
              "      <td>0.906752</td>\n",
              "      <td>0.663967</td>\n",
              "      <td>1.000000</td>\n",
              "      <td>-0.117222</td>\n",
              "      <td>NaN</td>\n",
              "      <td>0.690486</td>\n",
              "      <td>-0.117222</td>\n",
              "      <td>0.906752</td>\n",
              "      <td>0.848341</td>\n",
              "    </tr>\n",
              "    <tr>\n",
              "      <th>Precipitacao (mm)</th>\n",
              "      <td>0.026239</td>\n",
              "      <td>0.157762</td>\n",
              "      <td>-0.117222</td>\n",
              "      <td>1.000000</td>\n",
              "      <td>NaN</td>\n",
              "      <td>-0.263124</td>\n",
              "      <td>1.000000</td>\n",
              "      <td>0.026239</td>\n",
              "      <td>-0.333944</td>\n",
              "    </tr>\n",
              "    <tr>\n",
              "      <th>Final de Semana</th>\n",
              "      <td>NaN</td>\n",
              "      <td>NaN</td>\n",
              "      <td>NaN</td>\n",
              "      <td>NaN</td>\n",
              "      <td>NaN</td>\n",
              "      <td>NaN</td>\n",
              "      <td>NaN</td>\n",
              "      <td>NaN</td>\n",
              "      <td>NaN</td>\n",
              "    </tr>\n",
              "    <tr>\n",
              "      <th>Consumo</th>\n",
              "      <td>0.629538</td>\n",
              "      <td>0.450238</td>\n",
              "      <td>0.690486</td>\n",
              "      <td>-0.263124</td>\n",
              "      <td>NaN</td>\n",
              "      <td>1.000000</td>\n",
              "      <td>-0.263124</td>\n",
              "      <td>0.629538</td>\n",
              "      <td>0.730481</td>\n",
              "    </tr>\n",
              "    <tr>\n",
              "      <th>Precipitacao_norm</th>\n",
              "      <td>0.026239</td>\n",
              "      <td>0.157762</td>\n",
              "      <td>-0.117222</td>\n",
              "      <td>1.000000</td>\n",
              "      <td>NaN</td>\n",
              "      <td>-0.263124</td>\n",
              "      <td>1.000000</td>\n",
              "      <td>0.026239</td>\n",
              "      <td>-0.333944</td>\n",
              "    </tr>\n",
              "    <tr>\n",
              "      <th>Tmed_norm</th>\n",
              "      <td>1.000000</td>\n",
              "      <td>0.874687</td>\n",
              "      <td>0.906752</td>\n",
              "      <td>0.026239</td>\n",
              "      <td>NaN</td>\n",
              "      <td>0.629538</td>\n",
              "      <td>0.026239</td>\n",
              "      <td>1.000000</td>\n",
              "      <td>0.870083</td>\n",
              "    </tr>\n",
              "    <tr>\n",
              "      <th>Clima</th>\n",
              "      <td>0.870083</td>\n",
              "      <td>0.730329</td>\n",
              "      <td>0.848341</td>\n",
              "      <td>-0.333944</td>\n",
              "      <td>NaN</td>\n",
              "      <td>0.730481</td>\n",
              "      <td>-0.333944</td>\n",
              "      <td>0.870083</td>\n",
              "      <td>1.000000</td>\n",
              "    </tr>\n",
              "  </tbody>\n",
              "</table>\n",
              "</div>"
            ],
            "text/plain": [
              "                       Tmed      Tmin  ...  Tmed_norm     Clima\n",
              "Tmed               1.000000  0.874687  ...   1.000000  0.870083\n",
              "Tmin               0.874687  1.000000  ...   0.874687  0.730329\n",
              "Tmax               0.906752  0.663967  ...   0.906752  0.848341\n",
              "Precipitacao (mm)  0.026239  0.157762  ...   0.026239 -0.333944\n",
              "Final de Semana         NaN       NaN  ...        NaN       NaN\n",
              "Consumo            0.629538  0.450238  ...   0.629538  0.730481\n",
              "Precipitacao_norm  0.026239  0.157762  ...   0.026239 -0.333944\n",
              "Tmed_norm          1.000000  0.874687  ...   1.000000  0.870083\n",
              "Clima              0.870083  0.730329  ...   0.870083  1.000000\n",
              "\n",
              "[9 rows x 9 columns]"
            ]
          },
          "metadata": {
            "tags": []
          },
          "execution_count": 36
        }
      ]
    },
    {
      "cell_type": "code",
      "metadata": {
        "id": "0knCTd0ieQDY",
        "colab_type": "code",
        "outputId": "a7f64a09-c9a7-4b0f-f198-036be98e3568",
        "colab": {
          "base_uri": "https://localhost:8080/",
          "height": 170
        }
      },
      "source": [
        "df['Consumo'].describe()"
      ],
      "execution_count": 0,
      "outputs": [
        {
          "output_type": "execute_result",
          "data": {
            "text/plain": [
              "count      365.000000\n",
              "mean     25401.367123\n",
              "std       4399.142703\n",
              "min      14343.000000\n",
              "25%      22008.000000\n",
              "50%      24867.000000\n",
              "75%      28631.000000\n",
              "max      37937.000000\n",
              "Name: Consumo, dtype: float64"
            ]
          },
          "metadata": {
            "tags": []
          },
          "execution_count": 37
        }
      ]
    }
  ]
}